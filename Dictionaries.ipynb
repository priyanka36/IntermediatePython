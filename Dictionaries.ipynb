{
  "nbformat": 4,
  "nbformat_minor": 0,
  "metadata": {
    "colab": {
      "name": "Untitled69.ipynb",
      "provenance": [],
      "authorship_tag": "ABX9TyOnBl8bq5ZYvfhR64Xyysp5",
      "include_colab_link": true
    },
    "kernelspec": {
      "name": "python3",
      "display_name": "Python 3"
    },
    "language_info": {
      "name": "python"
    }
  },
  "cells": [
    {
      "cell_type": "markdown",
      "metadata": {
        "id": "view-in-github",
        "colab_type": "text"
      },
      "source": [
        "<a href=\"https://colab.research.google.com/github/priyanka36/IntermediatePython/blob/main/Dictionaries.ipynb\" target=\"_parent\"><img src=\"https://colab.research.google.com/assets/colab-badge.svg\" alt=\"Open In Colab\"/></a>"
      ]
    },
    {
      "cell_type": "code",
      "metadata": {
        "colab": {
          "base_uri": "https://localhost:8080/"
        },
        "id": "cWGG4Igb4Z9R",
        "outputId": "bbed0004-33b9-415c-ee5e-56235bf1e162"
      },
      "source": [
        "counts = dict()\n",
        "names = [\"csev\",\"lora\",\"samir\"]\n",
        "for name in names:\n",
        "  if name not in counts:\n",
        "    counts[name]=1\n",
        "  else:\n",
        "    counts[name]=counts[name]+1\n",
        "print(counts)\n"
      ],
      "execution_count": null,
      "outputs": [
        {
          "output_type": "stream",
          "name": "stdout",
          "text": [
            "{'csev': 1, 'lora': 1, 'samir': 1}\n"
          ]
        }
      ]
    },
    {
      "cell_type": "code",
      "metadata": {
        "id": "sZEhAaBZ8bbD",
        "colab": {
          "base_uri": "https://localhost:8080/"
        },
        "outputId": "8ccc9fae-4c31-4110-8050-409c8cfe95a1"
      },
      "source": [
        "j = {\"chuck\":1,\"fred\":42,\"jan\":400 }\n",
        "print(j)"
      ],
      "execution_count": 1,
      "outputs": [
        {
          "output_type": "stream",
          "name": "stdout",
          "text": [
            "{'chuck': 1, 'fred': 42, 'jan': 400}\n"
          ]
        }
      ]
    },
    {
      "cell_type": "code",
      "metadata": {
        "colab": {
          "base_uri": "https://localhost:8080/"
        },
        "id": "3uNsNkYRMZWf",
        "outputId": "7f1e2f9d-bafa-4e60-ef01-8c5def81eb64"
      },
      "source": [
        "print(list(j))"
      ],
      "execution_count": 2,
      "outputs": [
        {
          "output_type": "stream",
          "name": "stdout",
          "text": [
            "['chuck', 'fred', 'jan']\n"
          ]
        }
      ]
    },
    {
      "cell_type": "code",
      "metadata": {
        "colab": {
          "base_uri": "https://localhost:8080/"
        },
        "id": "GQkVz_KEMe_b",
        "outputId": "ea2386d1-3482-48f6-ea5c-58ed439deda6"
      },
      "source": [
        "print(j.keys())"
      ],
      "execution_count": 3,
      "outputs": [
        {
          "output_type": "stream",
          "name": "stdout",
          "text": [
            "dict_keys(['chuck', 'fred', 'jan'])\n"
          ]
        }
      ]
    },
    {
      "cell_type": "code",
      "metadata": {
        "colab": {
          "base_uri": "https://localhost:8080/"
        },
        "id": "0bTJnF7VMjGn",
        "outputId": "2b311625-739a-46db-9442-66eb9dc763d2"
      },
      "source": [
        "print(j.values())"
      ],
      "execution_count": 4,
      "outputs": [
        {
          "output_type": "stream",
          "name": "stdout",
          "text": [
            "dict_values([1, 42, 400])\n"
          ]
        }
      ]
    },
    {
      "cell_type": "code",
      "metadata": {
        "colab": {
          "base_uri": "https://localhost:8080/"
        },
        "id": "EP8AzY6ZMnF1",
        "outputId": "472ec4a2-3d80-4f7d-ff80-891e0334c1e7"
      },
      "source": [
        "print(j.items())"
      ],
      "execution_count": 5,
      "outputs": [
        {
          "output_type": "stream",
          "name": "stdout",
          "text": [
            "dict_items([('chuck', 1), ('fred', 42), ('jan', 400)])\n"
          ]
        }
      ]
    },
    {
      "cell_type": "code",
      "metadata": {
        "colab": {
          "base_uri": "https://localhost:8080/"
        },
        "id": "rG6EKxs8Mr-P",
        "outputId": "eb47880b-7c9b-4dac-ccd5-2278b960bce6"
      },
      "source": [
        "print(type(j.items()))"
      ],
      "execution_count": 6,
      "outputs": [
        {
          "output_type": "stream",
          "name": "stdout",
          "text": [
            "<class 'dict_items'>\n"
          ]
        }
      ]
    },
    {
      "cell_type": "code",
      "metadata": {
        "colab": {
          "base_uri": "https://localhost:8080/"
        },
        "id": "bLnKe5kdMzQ6",
        "outputId": "5bba116c-d288-4258-cb64-956d453393cf"
      },
      "source": [
        "for a,b in j.items():\n",
        "  print(a,b)"
      ],
      "execution_count": 7,
      "outputs": [
        {
          "output_type": "stream",
          "name": "stdout",
          "text": [
            "chuck 1\n",
            "fred 42\n",
            "jan 400\n"
          ]
        }
      ]
    },
    {
      "cell_type": "markdown",
      "metadata": {
        "id": "iColm2EaNtXI"
      },
      "source": [
        "The split function comes along with the capability of the strip function.\n"
      ]
    },
    {
      "cell_type": "code",
      "metadata": {
        "id": "JQIlKglLNGc2"
      },
      "source": [
        ""
      ],
      "execution_count": null,
      "outputs": []
    }
  ]
}