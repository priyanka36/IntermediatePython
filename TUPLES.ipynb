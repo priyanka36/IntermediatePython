{
  "nbformat": 4,
  "nbformat_minor": 0,
  "metadata": {
    "colab": {
      "name": "TUPLES.ipynb",
      "provenance": [],
      "authorship_tag": "ABX9TyOefPlHL+Fms9Jy34coE6Gc",
      "include_colab_link": true
    },
    "kernelspec": {
      "name": "python3",
      "display_name": "Python 3"
    },
    "language_info": {
      "name": "python"
    }
  },
  "cells": [
    {
      "cell_type": "markdown",
      "metadata": {
        "id": "view-in-github",
        "colab_type": "text"
      },
      "source": [
        "<a href=\"https://colab.research.google.com/github/priyanka36/IntermediatePython/blob/main/TUPLES.ipynb\" target=\"_parent\"><img src=\"https://colab.research.google.com/assets/colab-badge.svg\" alt=\"Open In Colab\"/></a>"
      ]
    },
    {
      "cell_type": "code",
      "metadata": {
        "colab": {
          "base_uri": "https://localhost:8080/"
        },
        "id": "33vi8UuqZ3AV",
        "outputId": "1e2dbc02-cee6-4e48-dbe9-27687ebc919f"
      },
      "source": [
        "x = (\"Glenn\",\"Sally\",\"John\")\n",
        "print(x[2])\n",
        "print(type(x[2]))"
      ],
      "execution_count": 3,
      "outputs": [
        {
          "output_type": "stream",
          "name": "stdout",
          "text": [
            "John\n",
            "<class 'str'>\n"
          ]
        }
      ]
    },
    {
      "cell_type": "code",
      "metadata": {
        "colab": {
          "base_uri": "https://localhost:8080/"
        },
        "id": "iaih_DZpaEsp",
        "outputId": "31644f1c-e91c-4a62-8d3e-1769d832241b"
      },
      "source": [
        "print(type(x))"
      ],
      "execution_count": 4,
      "outputs": [
        {
          "output_type": "stream",
          "name": "stdout",
          "text": [
            "<class 'tuple'>\n"
          ]
        }
      ]
    },
    {
      "cell_type": "code",
      "metadata": {
        "colab": {
          "base_uri": "https://localhost:8080/"
        },
        "id": "kER6dTrHaLT0",
        "outputId": "3bf12b30-76ca-45bd-c350-5018de49ac15"
      },
      "source": [
        "print(x)"
      ],
      "execution_count": 5,
      "outputs": [
        {
          "output_type": "stream",
          "name": "stdout",
          "text": [
            "('Glenn', 'Sally', 'John')\n"
          ]
        }
      ]
    },
    {
      "cell_type": "code",
      "metadata": {
        "colab": {
          "base_uri": "https://localhost:8080/"
        },
        "id": "N2XaqqrlatOm",
        "outputId": "4dc0655a-3b1a-4d2d-b685-f80a78be0704"
      },
      "source": [
        "for iter in x:\n",
        "  print(iter)\n",
        "  "
      ],
      "execution_count": 7,
      "outputs": [
        {
          "output_type": "stream",
          "name": "stdout",
          "text": [
            "Glenn\n",
            "Sally\n",
            "John\n"
          ]
        }
      ]
    },
    {
      "cell_type": "code",
      "metadata": {
        "colab": {
          "base_uri": "https://localhost:8080/"
        },
        "id": "FAw7GGNDaYzq",
        "outputId": "7a098123-e5ec-48f1-8089-1fc951aaa1b5"
      },
      "source": [
        "print(max(x))"
      ],
      "execution_count": 6,
      "outputs": [
        {
          "output_type": "stream",
          "name": "stdout",
          "text": [
            "Sally\n"
          ]
        }
      ]
    },
    {
      "cell_type": "code",
      "metadata": {
        "colab": {
          "base_uri": "https://localhost:8080/",
          "height": 175
        },
        "id": "nhGvWXkxbe8k",
        "outputId": "0b56e956-dbde-4631-a96c-02644d616ec3"
      },
      "source": [
        "x[2]=\"Ram\"\n",
        "print(x)"
      ],
      "execution_count": 8,
      "outputs": [
        {
          "output_type": "error",
          "ename": "TypeError",
          "evalue": "ignored",
          "traceback": [
            "\u001b[0;31m---------------------------------------------------------------------------\u001b[0m",
            "\u001b[0;31mTypeError\u001b[0m                                 Traceback (most recent call last)",
            "\u001b[0;32m<ipython-input-8-4da427ae8639>\u001b[0m in \u001b[0;36m<module>\u001b[0;34m()\u001b[0m\n\u001b[0;32m----> 1\u001b[0;31m \u001b[0mx\u001b[0m\u001b[0;34m[\u001b[0m\u001b[0;36m2\u001b[0m\u001b[0;34m]\u001b[0m\u001b[0;34m=\u001b[0m\u001b[0;34m\"Ram\"\u001b[0m\u001b[0;34m\u001b[0m\u001b[0;34m\u001b[0m\u001b[0m\n\u001b[0m\u001b[1;32m      2\u001b[0m \u001b[0mprint\u001b[0m\u001b[0;34m(\u001b[0m\u001b[0mx\u001b[0m\u001b[0;34m)\u001b[0m\u001b[0;34m\u001b[0m\u001b[0;34m\u001b[0m\u001b[0m\n",
            "\u001b[0;31mTypeError\u001b[0m: 'tuple' object does not support item assignment"
          ]
        }
      ]
    },
    {
      "cell_type": "markdown",
      "metadata": {
        "id": "hbQAXCUgaaTe"
      },
      "source": [
        "# Tuples are similar to lists just as they differ in the convention of the brackets and can be access as like lists \n",
        "# List,Tuple,String are sequences .It looks through the sequence of things \n",
        "# Tuples are immutable \n",
        "# Strings are immutable \n",
        "# Tuples can't be sorted \n",
        "# Append extend reverse\n"
      ]
    },
    {
      "cell_type": "code",
      "metadata": {
        "colab": {
          "base_uri": "https://localhost:8080/"
        },
        "id": "aDEzGGY-b7rd",
        "outputId": "e23399ec-62fb-4f84-a87f-d821928b77be"
      },
      "source": [
        "dir(x)"
      ],
      "execution_count": 9,
      "outputs": [
        {
          "output_type": "execute_result",
          "data": {
            "text/plain": [
              "['__add__',\n",
              " '__class__',\n",
              " '__contains__',\n",
              " '__delattr__',\n",
              " '__dir__',\n",
              " '__doc__',\n",
              " '__eq__',\n",
              " '__format__',\n",
              " '__ge__',\n",
              " '__getattribute__',\n",
              " '__getitem__',\n",
              " '__getnewargs__',\n",
              " '__gt__',\n",
              " '__hash__',\n",
              " '__init__',\n",
              " '__init_subclass__',\n",
              " '__iter__',\n",
              " '__le__',\n",
              " '__len__',\n",
              " '__lt__',\n",
              " '__mul__',\n",
              " '__ne__',\n",
              " '__new__',\n",
              " '__reduce__',\n",
              " '__reduce_ex__',\n",
              " '__repr__',\n",
              " '__rmul__',\n",
              " '__setattr__',\n",
              " '__sizeof__',\n",
              " '__str__',\n",
              " '__subclasshook__',\n",
              " 'count',\n",
              " 'index']"
            ]
          },
          "metadata": {},
          "execution_count": 9
        }
      ]
    },
    {
      "cell_type": "code",
      "metadata": {
        "colab": {
          "base_uri": "https://localhost:8080/"
        },
        "id": "gRLOunVEb939",
        "outputId": "e1c814a9-899d-4d97-f49d-d50b7cac652e"
      },
      "source": [
        "l = list()\n",
        "dir(l)"
      ],
      "execution_count": 10,
      "outputs": [
        {
          "output_type": "execute_result",
          "data": {
            "text/plain": [
              "['__add__',\n",
              " '__class__',\n",
              " '__contains__',\n",
              " '__delattr__',\n",
              " '__delitem__',\n",
              " '__dir__',\n",
              " '__doc__',\n",
              " '__eq__',\n",
              " '__format__',\n",
              " '__ge__',\n",
              " '__getattribute__',\n",
              " '__getitem__',\n",
              " '__gt__',\n",
              " '__hash__',\n",
              " '__iadd__',\n",
              " '__imul__',\n",
              " '__init__',\n",
              " '__init_subclass__',\n",
              " '__iter__',\n",
              " '__le__',\n",
              " '__len__',\n",
              " '__lt__',\n",
              " '__mul__',\n",
              " '__ne__',\n",
              " '__new__',\n",
              " '__reduce__',\n",
              " '__reduce_ex__',\n",
              " '__repr__',\n",
              " '__reversed__',\n",
              " '__rmul__',\n",
              " '__setattr__',\n",
              " '__setitem__',\n",
              " '__sizeof__',\n",
              " '__str__',\n",
              " '__subclasshook__',\n",
              " 'append',\n",
              " 'clear',\n",
              " 'copy',\n",
              " 'count',\n",
              " 'extend',\n",
              " 'index',\n",
              " 'insert',\n",
              " 'pop',\n",
              " 'remove',\n",
              " 'reverse',\n",
              " 'sort']"
            ]
          },
          "metadata": {},
          "execution_count": 10
        }
      ]
    },
    {
      "cell_type": "code",
      "metadata": {
        "colab": {
          "base_uri": "https://localhost:8080/"
        },
        "id": "_GpZBmVycEjz",
        "outputId": "5b5aa349-1466-4114-c83d-431223a3642a"
      },
      "source": [
        "d = dict()\n",
        "d[\"csev\"] = 2\n",
        "d[\"rev\"] = 4\n",
        "print(d)"
      ],
      "execution_count": 11,
      "outputs": [
        {
          "output_type": "stream",
          "name": "stdout",
          "text": [
            "{'csev': 2, 'rev': 4}\n"
          ]
        }
      ]
    },
    {
      "cell_type": "code",
      "metadata": {
        "colab": {
          "base_uri": "https://localhost:8080/"
        },
        "id": "QrvgD8eppI5N",
        "outputId": "2520da08-25b4-4e82-dddd-f23928e820e8"
      },
      "source": [
        "d.items()\n",
        "print(type(d.items()))\n",
        "dir(d.items())\n",
        "for k,v in d.items():\n",
        "  print(\"key\",k)\n",
        "  print(\"value\",v)\n",
        "  print(k,v)\n",
        "  print(d.items())\n"
      ],
      "execution_count": 18,
      "outputs": [
        {
          "output_type": "stream",
          "name": "stdout",
          "text": [
            "<class 'dict_items'>\n",
            "key csev\n",
            "value 2\n",
            "csev 2\n",
            "dict_items([('csev', 2), ('rev', 4)])\n",
            "key rev\n",
            "value 4\n",
            "rev 4\n",
            "dict_items([('csev', 2), ('rev', 4)])\n"
          ]
        }
      ]
    },
    {
      "cell_type": "markdown",
      "metadata": {
        "id": "JUEQHCXloVtn"
      },
      "source": [
        " - We also put tuples on the left hand side of the assignment \n",
        " - It expects tuple on the right hand side of the assignment\n",
        " - Tuples are comparable \n",
        " - If two of the values in a tuple are compared and first one is true then it doesn't look any futher.\n"
      ]
    },
    {
      "cell_type": "code",
      "metadata": {
        "colab": {
          "base_uri": "https://localhost:8080/"
        },
        "id": "nGywpN5fo9lm",
        "outputId": "882b694b-7b5d-4c0f-d871-245a4148f4cb"
      },
      "source": [
        "(0,1,2)<(5,6,7)"
      ],
      "execution_count": 19,
      "outputs": [
        {
          "output_type": "execute_result",
          "data": {
            "text/plain": [
              "True"
            ]
          },
          "metadata": {},
          "execution_count": 19
        }
      ]
    },
    {
      "cell_type": "code",
      "metadata": {
        "colab": {
          "base_uri": "https://localhost:8080/"
        },
        "id": "nDKUDrpBrHqG",
        "outputId": "6ea593cb-c1e0-4f28-d184-0704bffc2bc6"
      },
      "source": [
        "(1,2,3)>(4,5,6)"
      ],
      "execution_count": 20,
      "outputs": [
        {
          "output_type": "execute_result",
          "data": {
            "text/plain": [
              "False"
            ]
          },
          "metadata": {},
          "execution_count": 20
        }
      ]
    },
    {
      "cell_type": "code",
      "metadata": {
        "colab": {
          "base_uri": "https://localhost:8080/"
        },
        "id": "FB-DjYY6rMyV",
        "outputId": "45cb200e-d67c-42cc-e84e-90bab5b46deb"
      },
      "source": [
        "(\"Sally\",\"Ram\")<(\"Hari\",\"Gita\")"
      ],
      "execution_count": 21,
      "outputs": [
        {
          "output_type": "execute_result",
          "data": {
            "text/plain": [
              "False"
            ]
          },
          "metadata": {},
          "execution_count": 21
        }
      ]
    },
    {
      "cell_type": "code",
      "metadata": {
        "colab": {
          "base_uri": "https://localhost:8080/"
        },
        "id": "GeG8svowrVC4",
        "outputId": "5acd7755-dc96-4eef-a3e1-8b00eba1765a"
      },
      "source": [
        "d"
      ],
      "execution_count": 22,
      "outputs": [
        {
          "output_type": "execute_result",
          "data": {
            "text/plain": [
              "{'csev': 2, 'rev': 4}"
            ]
          },
          "metadata": {},
          "execution_count": 22
        }
      ]
    },
    {
      "cell_type": "code",
      "metadata": {
        "colab": {
          "base_uri": "https://localhost:8080/"
        },
        "id": "iQnmbsoar42q",
        "outputId": "85ce713c-89d6-4c01-b86f-7c94f23941db"
      },
      "source": [
        "d.items()"
      ],
      "execution_count": 23,
      "outputs": [
        {
          "output_type": "execute_result",
          "data": {
            "text/plain": [
              "dict_items([('csev', 2), ('rev', 4)])"
            ]
          },
          "metadata": {},
          "execution_count": 23
        }
      ]
    },
    {
      "cell_type": "code",
      "metadata": {
        "colab": {
          "base_uri": "https://localhost:8080/"
        },
        "id": "hSJhCMTPr6nN",
        "outputId": "6884cd5c-265a-46c3-c2bf-b0efb31d8502"
      },
      "source": [
        "sorted(d.items())"
      ],
      "execution_count": 24,
      "outputs": [
        {
          "output_type": "execute_result",
          "data": {
            "text/plain": [
              "[('csev', 2), ('rev', 4)]"
            ]
          },
          "metadata": {},
          "execution_count": 24
        }
      ]
    },
    {
      "cell_type": "markdown",
      "metadata": {
        "id": "RcaoGdpusV0G"
      },
      "source": [
        "# Sorted sorts with the help of key items not value items "
      ]
    },
    {
      "cell_type": "markdown",
      "metadata": {
        "id": "HpGrYaJH0Mwg"
      },
      "source": [
        "# To sort the dictionary values in order of their values we have to do the following \n"
      ]
    },
    {
      "cell_type": "code",
      "metadata": {
        "colab": {
          "base_uri": "https://localhost:8080/"
        },
        "id": "K9EYEY9u0lNv",
        "outputId": "263c1e5e-c8a3-4c3a-8801-09a62487154d"
      },
      "source": [
        "c={\"a\":1,\"b\":2,\"c\":0,\"d\":5}\n",
        "print(c)"
      ],
      "execution_count": 25,
      "outputs": [
        {
          "output_type": "stream",
          "name": "stdout",
          "text": [
            "{'a': 1, 'b': 2, 'c': 0, 'd': 5}\n"
          ]
        }
      ]
    },
    {
      "cell_type": "code",
      "metadata": {
        "colab": {
          "base_uri": "https://localhost:8080/"
        },
        "id": "hwJq89wN01xP",
        "outputId": "1a3e90b1-39d9-4883-a4ed-de7a7f66bc07"
      },
      "source": [
        "lista = []\n",
        "for k,v in c.items():\n",
        "  lista.append((v,k))\n",
        "print(lista)\n"
      ],
      "execution_count": 29,
      "outputs": [
        {
          "output_type": "stream",
          "name": "stdout",
          "text": [
            "[(1, 'a'), (2, 'b'), (0, 'c'), (5, 'd')]\n"
          ]
        }
      ]
    },
    {
      "cell_type": "code",
      "metadata": {
        "id": "H_X-OvCC07RC"
      },
      "source": [
        "lista = sorted(lista,reverse=True)"
      ],
      "execution_count": 33,
      "outputs": []
    },
    {
      "cell_type": "code",
      "metadata": {
        "colab": {
          "base_uri": "https://localhost:8080/"
        },
        "id": "kYGJFMfD10YX",
        "outputId": "9d299e8d-0dde-427b-e110-4367c6fac2b1"
      },
      "source": [
        "lista"
      ],
      "execution_count": 34,
      "outputs": [
        {
          "output_type": "execute_result",
          "data": {
            "text/plain": [
              "[(5, 'd'), (2, 'b'), (1, 'a'), (0, 'c')]"
            ]
          },
          "metadata": {},
          "execution_count": 34
        }
      ]
    },
    {
      "cell_type": "code",
      "metadata": {
        "id": "jVBo6lP211au"
      },
      "source": [
        ""
      ],
      "execution_count": null,
      "outputs": []
    }
  ]
}